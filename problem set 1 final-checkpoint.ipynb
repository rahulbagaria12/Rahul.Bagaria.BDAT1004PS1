{
 "cells": [
  {
   "cell_type": "markdown",
   "id": "138f720f",
   "metadata": {},
   "source": [
    "#  Question 1"
   ]
  },
  {
   "cell_type": "code",
   "execution_count": 1,
   "id": "ccb46543",
   "metadata": {},
   "outputs": [
    {
     "name": "stdout",
     "output_type": "stream",
     "text": [
      "<class 'int'>\n",
      "<class 'float'>\n",
      "<class 'bool'>\n",
      "<class 'str'>\n",
      "<class 'int'>\n",
      "<class 'str'>\n",
      "<class 'str'>\n",
      "<class 'float'>\n",
      "<class 'set'>\n",
      "<class 'bool'>\n",
      "<class 'float'>\n"
     ]
    }
   ],
   "source": [
    "print(type(5))\n",
    "print(type(5.0))\n",
    "print(type(5>1),)\n",
    "print(type('5'))\n",
    "print(type(5*2))\n",
    "print(type('5'*2))\n",
    "print(type('5'+'2'))\n",
    "print(type(5/2))\n",
    "print(type({5,2,2}))\n",
    "print(type(5==3))\n",
    "print(type(3.14))\n"
   ]
  },
  {
   "cell_type": "markdown",
   "id": "0650e0c5",
   "metadata": {},
   "source": [
    "# QUESTION 2"
   ]
  },
  {
   "cell_type": "code",
   "execution_count": 2,
   "id": "37d6f71c",
   "metadata": {},
   "outputs": [
    {
     "name": "stdout",
     "output_type": "stream",
     "text": [
      "34\n",
      "the word Supercalifragilisticexpialidocious contains ice\n",
      "Supercalifragilisticexpialidocious is the longest\n",
      "['Bartok', 'Bellini', 'Berlioz', 'Bernstein', 'Borodin', 'Brian', 'Buxtehude']\n"
     ]
    }
   ],
   "source": [
    "txt='Supercalifragilisticexpialidocious'\n",
    "a=len(txt)\n",
    "print(a)\n",
    "substring ='ice'\n",
    "if substring in txt:\n",
    "    print(\"the word\", txt,\"contains ice\")\n",
    "else:\n",
    "    print(\"the word\",txt, \"does not contains ice\")\n",
    "txt2=\"Honorificabilitudinitatibus\"\n",
    "txt3=\"Bababadalgharaghtakamminarronnkonn\"\n",
    "b=len(txt2)\n",
    "c=len(txt3)\n",
    "list=[txt,txt2,txt3]\n",
    "print(max(list), \"is the longest\")\n",
    "list2=['Berlioz', 'Borodin', 'Brian',\n",
    "'Bartok', 'Bellini', 'Buxtehude', 'Bernstein']\n",
    "list2.sort()\n",
    "print(list2)"
   ]
  },
  {
   "cell_type": "markdown",
   "id": "c42f0b73",
   "metadata": {},
   "source": [
    "#  Question 3"
   ]
  },
  {
   "cell_type": "code",
   "execution_count": 3,
   "id": "da286fce",
   "metadata": {},
   "outputs": [
    {
     "name": "stdout",
     "output_type": "stream",
     "text": [
      "1.7320508075688772\n"
     ]
    }
   ],
   "source": [
    "import math\n",
    "def trianglearea(a,b,c):\n",
    "    s=(a+b+c)/2\n",
    "    area=math.sqrt(s*(s-a)*(s-b)*(s-c))\n",
    "    return area\n",
    "\n",
    "print(trianglearea(2,2,2))"
   ]
  },
  {
   "cell_type": "markdown",
   "id": "2bcece55",
   "metadata": {},
   "source": [
    "# Question 5"
   ]
  },
  {
   "cell_type": "code",
   "execution_count": 4,
   "id": "4fda2fdf",
   "metadata": {},
   "outputs": [
    {
     "name": "stdout",
     "output_type": "stream",
     "text": [
      "True\n",
      "False\n",
      "False\n",
      "True\n"
     ]
    }
   ],
   "source": [
    "\n",
    "def inside(x,y,x1,y1,x2,y2):\n",
    "    if (x>x1 and x<x2 and y>y1 and y<y2):\n",
    "        return True\n",
    "    else:\n",
    "        return False\n",
    "print(inside(1,1,0,0,2,3))\n",
    "print(inside(-1,-1,0,0,2,3))\n",
    "print(inside(1,1,0.3,0.5,1.1,0.7))\n",
    "print(inside(1,1,0.2,0.5,1.1,2))"
   ]
  },
  {
   "cell_type": "markdown",
   "id": "6de02dc0",
   "metadata": {},
   "source": [
    "# Question 6"
   ]
  },
  {
   "cell_type": "code",
   "execution_count": 5,
   "id": "ad315729",
   "metadata": {},
   "outputs": [
    {
     "name": "stdout",
     "output_type": "stream",
     "text": [
      "appyhay\n",
      "enterway\n"
     ]
    }
   ],
   "source": [
    "def pig(txt):\n",
    "    list=[\"a\",\"A\",\"e\",\"E\",\"i\",\"I\",\"o\",\"O\",\"u\",\"U\"]\n",
    "    b=txt\n",
    "    if b[0] in list:\n",
    "        c=b+\"way\"\n",
    "        print(c)\n",
    "        \n",
    "    else:\n",
    "        d=txt[0]\n",
    "        e=txt[1:]+d+\"ay\"\n",
    "        print(e)\n",
    "        \n",
    "    \n",
    "pig(\"happy\")\n",
    "pig(\"enter\")"
   ]
  },
  {
   "cell_type": "markdown",
   "id": "55240613",
   "metadata": {},
   "source": [
    "# Question 7"
   ]
  },
  {
   "cell_type": "code",
   "execution_count": 6,
   "id": "c351c4bb",
   "metadata": {},
   "outputs": [
    {
     "name": "stdout",
     "output_type": "stream",
     "text": [
      "there are 15 patients of blood type A\n",
      "there are 1 patients of blood type B\n",
      "there are 13 patients of blood type AB\n",
      "there are 15 patients of blood type O\n",
      "there are 0 patients of blood type OO\n"
     ]
    }
   ],
   "source": [
    "def bldcount(txt):\n",
    "    a=txt.split(\" \")\n",
    "    bt1=a.count(\"A\")\n",
    "    print(\"there are\",bt1,\"patients of blood type A\")\n",
    "    bt2=a.count(\"B\")\n",
    "    print(\"there are\",bt2,\"patients of blood type B\")\n",
    "    bt3=a.count(\"AB\")\n",
    "    print(\"there are\",bt3,\"patients of blood type AB\")\n",
    "    bt4=a.count(\"O\")\n",
    "    print(\"there are\",bt4,\"patients of blood type O\")\n",
    "    bt5=a.count(\"OO\")\n",
    "    print(\"there are\",bt5,\"patients of blood type OO\")\n",
    "txt=open(\"bloodtypefile1\",\"r\")\n",
    "bldcount(txt.read()) "
   ]
  },
  {
   "cell_type": "markdown",
   "id": "99c0885a",
   "metadata": {},
   "source": [
    "# Question 8"
   ]
  },
  {
   "cell_type": "code",
   "execution_count": 7,
   "id": "8647458e",
   "metadata": {},
   "outputs": [
    {
     "name": "stdout",
     "output_type": "stream",
     "text": [
      "122.96544\n",
      "1.241401\n"
     ]
    }
   ],
   "source": [
    "def curconv(currency, amount):\n",
    "    data = open('currencies.txt','r')\n",
    "\n",
    "    country = 0\n",
    "    for line in data.readlines():\n",
    "        for word in line.split():\n",
    "            if(word == currency):\n",
    "                country = 1\n",
    "                continue\n",
    "            elif(country == 1):\n",
    "                convertion = float(word)*amount\n",
    "                return convertion\n",
    "\n",
    "    data.close()\n",
    "    \n",
    "amt = curconv('EUR',100)\n",
    "print(amt)\n",
    "amt = curconv('JPY',100)\n",
    "print(amt)"
   ]
  },
  {
   "cell_type": "markdown",
   "id": "3e1439c1",
   "metadata": {},
   "source": [
    "# Question 9"
   ]
  },
  {
   "cell_type": "markdown",
   "id": "00b23035",
   "metadata": {},
   "source": [
    "# adding 6 + ‘a’"
   ]
  },
  {
   "cell_type": "code",
   "execution_count": 8,
   "id": "b61491b2",
   "metadata": {},
   "outputs": [
    {
     "ename": "TypeError",
     "evalue": "unsupported operand type(s) for +: 'int' and 'str'",
     "output_type": "error",
     "traceback": [
      "\u001b[1;31m---------------------------------------------------------------------------\u001b[0m",
      "\u001b[1;31mTypeError\u001b[0m                                 Traceback (most recent call last)",
      "\u001b[1;32m~\\AppData\\Local\\Temp\\ipykernel_57656\\2240483672.py\u001b[0m in \u001b[0;36m<module>\u001b[1;34m\u001b[0m\n\u001b[1;32m----> 1\u001b[1;33m \u001b[1;36m6\u001b[0m\u001b[1;33m+\u001b[0m\u001b[1;34m'a'\u001b[0m\u001b[1;33m\u001b[0m\u001b[1;33m\u001b[0m\u001b[0m\n\u001b[0m",
      "\u001b[1;31mTypeError\u001b[0m: unsupported operand type(s) for +: 'int' and 'str'"
     ]
    }
   ],
   "source": [
    "6+'a'"
   ]
  },
  {
   "cell_type": "markdown",
   "id": "a9560dc2",
   "metadata": {},
   "source": [
    "#  Referring to the 12th item of a list that has only 10 items"
   ]
  },
  {
   "cell_type": "code",
   "execution_count": 9,
   "id": "698c71ee",
   "metadata": {},
   "outputs": [
    {
     "ename": "IndexError",
     "evalue": "list index out of range",
     "output_type": "error",
     "traceback": [
      "\u001b[1;31m---------------------------------------------------------------------------\u001b[0m",
      "\u001b[1;31mIndexError\u001b[0m                                Traceback (most recent call last)",
      "\u001b[1;32m~\\AppData\\Local\\Temp\\ipykernel_57656\\3148070159.py\u001b[0m in \u001b[0;36m<module>\u001b[1;34m\u001b[0m\n\u001b[0;32m      1\u001b[0m \u001b[0mlst\u001b[0m\u001b[1;33m=\u001b[0m\u001b[1;33m[\u001b[0m\u001b[1;36m1\u001b[0m\u001b[1;33m,\u001b[0m\u001b[1;36m2\u001b[0m\u001b[1;33m,\u001b[0m\u001b[1;36m3\u001b[0m\u001b[1;33m,\u001b[0m\u001b[1;36m4\u001b[0m\u001b[1;33m,\u001b[0m\u001b[1;36m5\u001b[0m\u001b[1;33m,\u001b[0m\u001b[1;36m6\u001b[0m\u001b[1;33m,\u001b[0m\u001b[1;36m7\u001b[0m\u001b[1;33m,\u001b[0m\u001b[1;36m8\u001b[0m\u001b[1;33m,\u001b[0m\u001b[1;36m9\u001b[0m\u001b[1;33m,\u001b[0m\u001b[1;36m10\u001b[0m\u001b[1;33m]\u001b[0m\u001b[1;33m\u001b[0m\u001b[1;33m\u001b[0m\u001b[0m\n\u001b[1;32m----> 2\u001b[1;33m \u001b[0mprint\u001b[0m\u001b[1;33m(\u001b[0m\u001b[0mlst\u001b[0m\u001b[1;33m[\u001b[0m\u001b[1;36m12\u001b[0m\u001b[1;33m]\u001b[0m\u001b[1;33m)\u001b[0m\u001b[1;33m\u001b[0m\u001b[1;33m\u001b[0m\u001b[0m\n\u001b[0m",
      "\u001b[1;31mIndexError\u001b[0m: list index out of range"
     ]
    }
   ],
   "source": [
    "lst=[1,2,3,4,5,6,7,8,9,10]\n",
    "print(lst[12])"
   ]
  },
  {
   "cell_type": "markdown",
   "id": "8a444b3d",
   "metadata": {},
   "source": [
    "#  Using a value that is out of range for a function’s input, such as calling math.sqrt(-1.0)\n"
   ]
  },
  {
   "cell_type": "code",
   "execution_count": 12,
   "id": "07a1cece",
   "metadata": {},
   "outputs": [
    {
     "ename": "ValueError",
     "evalue": "math domain error",
     "output_type": "error",
     "traceback": [
      "\u001b[1;31m---------------------------------------------------------------------------\u001b[0m",
      "\u001b[1;31mValueError\u001b[0m                                Traceback (most recent call last)",
      "\u001b[1;32m~\\AppData\\Local\\Temp\\ipykernel_57656\\1114391229.py\u001b[0m in \u001b[0;36m<module>\u001b[1;34m\u001b[0m\n\u001b[0;32m      1\u001b[0m \u001b[1;32mimport\u001b[0m \u001b[0mmath\u001b[0m\u001b[1;33m\u001b[0m\u001b[1;33m\u001b[0m\u001b[0m\n\u001b[1;32m----> 2\u001b[1;33m \u001b[0mmath\u001b[0m\u001b[1;33m.\u001b[0m\u001b[0msqrt\u001b[0m\u001b[1;33m(\u001b[0m\u001b[1;33m-\u001b[0m\u001b[1;36m1.0\u001b[0m\u001b[1;33m)\u001b[0m\u001b[1;33m\u001b[0m\u001b[1;33m\u001b[0m\u001b[0m\n\u001b[0m",
      "\u001b[1;31mValueError\u001b[0m: math domain error"
     ]
    }
   ],
   "source": [
    "import math\n",
    "math.sqrt(-1.0)"
   ]
  },
  {
   "cell_type": "markdown",
   "id": "fcea24df",
   "metadata": {},
   "source": [
    "# Using an undeclared variable, such as print(x) when x has not been defined \n"
   ]
  },
  {
   "cell_type": "code",
   "execution_count": 13,
   "id": "8c09554d",
   "metadata": {},
   "outputs": [
    {
     "ename": "NameError",
     "evalue": "name 'x' is not defined",
     "output_type": "error",
     "traceback": [
      "\u001b[1;31m---------------------------------------------------------------------------\u001b[0m",
      "\u001b[1;31mNameError\u001b[0m                                 Traceback (most recent call last)",
      "\u001b[1;32m~\\AppData\\Local\\Temp\\ipykernel_57656\\1353120783.py\u001b[0m in \u001b[0;36m<module>\u001b[1;34m\u001b[0m\n\u001b[1;32m----> 1\u001b[1;33m \u001b[0mprint\u001b[0m\u001b[1;33m(\u001b[0m\u001b[0mx\u001b[0m\u001b[1;33m)\u001b[0m\u001b[1;33m\u001b[0m\u001b[1;33m\u001b[0m\u001b[0m\n\u001b[0m",
      "\u001b[1;31mNameError\u001b[0m: name 'x' is not defined"
     ]
    }
   ],
   "source": [
    "print(x)"
   ]
  },
  {
   "cell_type": "code",
   "execution_count": 14,
   "id": "fedeafe5",
   "metadata": {},
   "outputs": [
    {
     "ename": "FileNotFoundError",
     "evalue": "[Errno 2] No such file or directory: 'file'",
     "output_type": "error",
     "traceback": [
      "\u001b[1;31m---------------------------------------------------------------------------\u001b[0m",
      "\u001b[1;31mFileNotFoundError\u001b[0m                         Traceback (most recent call last)",
      "\u001b[1;32m~\\AppData\\Local\\Temp\\ipykernel_57656\\616876576.py\u001b[0m in \u001b[0;36m<module>\u001b[1;34m\u001b[0m\n\u001b[1;32m----> 1\u001b[1;33m \u001b[0mf\u001b[0m \u001b[1;33m=\u001b[0m \u001b[0mopen\u001b[0m\u001b[1;33m(\u001b[0m\u001b[1;34m\"file\"\u001b[0m\u001b[1;33m)\u001b[0m\u001b[1;33m\u001b[0m\u001b[1;33m\u001b[0m\u001b[0m\n\u001b[0m",
      "\u001b[1;31mFileNotFoundError\u001b[0m: [Errno 2] No such file or directory: 'file'"
     ]
    }
   ],
   "source": [
    "f = open(\"file\")"
   ]
  },
  {
   "cell_type": "markdown",
   "id": "b5f9c2c8",
   "metadata": {},
   "source": [
    "#  Question 10\n"
   ]
  },
  {
   "cell_type": "code",
   "execution_count": 15,
   "id": "70a16e07",
   "metadata": {},
   "outputs": [
    {
     "name": "stdout",
     "output_type": "stream",
     "text": [
      "[1, 1, 1, 3, 5, 1, 1, 2, 1, 0, 1, 0, 1, 2, 4, 0, 1, 2, 0, 2, 1, 0, 1, 1, 0, 0]\n",
      "[1, 0, 0, 0, 1, 0, 0, 0, 0, 0, 0, 1, 0, 0, 0, 2, 0, 0, 0, 0, 0, 0, 0, 0, 0, 0]\n"
     ]
    }
   ],
   "source": [
    "def frequencies(str):\n",
    "    letters = \"abcdefghijklmnopqrstuvwxyz\"\n",
    "    list = []\n",
    "    for char in letters:\n",
    "        list.append(char)\n",
    "        numberlist = [0]*26\n",
    "\n",
    "    for line in str:\n",
    "        for word in line.split():\n",
    "            \n",
    "            if(word in list):\n",
    "                xo = list.index(word)\n",
    "                numberlist[xo]= numberlist[xo] + 1\n",
    "    return numberlist\n",
    "\n",
    "encryption = frequencies('The quick red fox got bored and went home.')\n",
    "print(encryption)\n",
    "encryption= frequencies(\"apple\")\n",
    "print(encryption)"
   ]
  },
  {
   "cell_type": "markdown",
   "id": "fa29bc85",
   "metadata": {},
   "source": [
    "#  Question 4"
   ]
  },
  {
   "cell_type": "code",
   "execution_count": 16,
   "id": "6155347b",
   "metadata": {},
   "outputs": [
    {
     "name": "stdout",
     "output_type": "stream",
     "text": [
      "input the number of element to be  stored in array : 5\n",
      "input 5 elements in array : \n",
      "elements - 0  :  25\n",
      "elements - 1  :  47\n",
      "elements - 2  :  42\n",
      "elements - 3  :  56\n",
      "elements - 4  :  32\n",
      "the even elements are :  [42, 56, 32]\n",
      "the odd elements are :  [25, 47]\n"
     ]
    }
   ],
   "source": [
    "list1=[]\n",
    "list2=[]\n",
    "list3=[]\n",
    "n= int(input(\"input the number of element to be  stored in array : \"))\n",
    "print(\"input 5 elements in array : \")\n",
    "for i in range(0,n):\n",
    "    print(\"elements -\",i,\" : \",end=\" \")\n",
    "    element = int(input())\n",
    "    \n",
    "    list1.append(element)\n",
    "\n",
    "    if(list1[i]%2==0):\n",
    "        list2.append(list1[i])\n",
    "    else:\n",
    "        list3.append(list1[i])\n",
    "\n",
    "print(\"the even elements are : \",list2)\n",
    "print(\"the odd elements are : \",list3)\n"
   ]
  },
  {
   "cell_type": "code",
   "execution_count": null,
   "id": "ef07afa0",
   "metadata": {},
   "outputs": [],
   "source": []
  }
 ],
 "metadata": {
  "kernelspec": {
   "display_name": "Python 3 (ipykernel)",
   "language": "python",
   "name": "python3"
  },
  "language_info": {
   "codemirror_mode": {
    "name": "ipython",
    "version": 3
   },
   "file_extension": ".py",
   "mimetype": "text/x-python",
   "name": "python",
   "nbconvert_exporter": "python",
   "pygments_lexer": "ipython3",
   "version": "3.9.13"
  }
 },
 "nbformat": 4,
 "nbformat_minor": 5
}
